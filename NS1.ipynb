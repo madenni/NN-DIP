{
  "nbformat": 4,
  "nbformat_minor": 0,
  "metadata": {
    "colab": {
      "provenance": [],
      "authorship_tag": "ABX9TyMD3Gk3fUlIW6RqdVOW73uc",
      "include_colab_link": true
    },
    "kernelspec": {
      "name": "python3",
      "display_name": "Python 3"
    },
    "language_info": {
      "name": "python"
    }
  },
  "cells": [
    {
      "cell_type": "markdown",
      "metadata": {
        "id": "view-in-github",
        "colab_type": "text"
      },
      "source": [
        "<a href=\"https://colab.research.google.com/github/madenni/NN-DIP/blob/main/NS1.ipynb\" target=\"_parent\"><img src=\"https://colab.research.google.com/assets/colab-badge.svg\" alt=\"Open In Colab\"/></a>"
      ]
    },
    {
      "cell_type": "markdown",
      "source": [
        "Конъюнкция\n",
        "\n",
        "\n"
      ],
      "metadata": {
        "id": "5eCh-ePAsgPn"
      }
    },
    {
      "cell_type": "code",
      "execution_count": null,
      "metadata": {
        "id": "RRivQMomRUVt"
      },
      "outputs": [],
      "source": [
        "from random import randint\n",
        "speed  = 0.3\n",
        "\n",
        "w = [randint(0,100)/100, randint(0,100)/100]\n",
        "\n",
        "x_train = [[1,1], [1,0], [0,1], [0,0]]\n",
        "y_train = [1,0,0,0]"
      ]
    },
    {
      "cell_type": "code",
      "source": [
        "def predict(x_train):\n",
        "  summator = x_train[0] * w[0] + x_train[1] * w[1]\n",
        "  act = 1 if summator >= 1 else 0\n",
        "  return act"
      ],
      "metadata": {
        "id": "xy6ebhRoSEk7"
      },
      "execution_count": null,
      "outputs": []
    },
    {
      "cell_type": "code",
      "source": [
        "w"
      ],
      "metadata": {
        "id": "Nm6jIXXZGSdS",
        "outputId": "0c6ec7f0-df7f-4d99-fec8-a6f08d65e948",
        "colab": {
          "base_uri": "https://localhost:8080/"
        }
      },
      "execution_count": null,
      "outputs": [
        {
          "output_type": "execute_result",
          "data": {
            "text/plain": [
              "[0.58, 0.89]"
            ]
          },
          "metadata": {},
          "execution_count": 197
        }
      ]
    },
    {
      "cell_type": "code",
      "source": [
        "def train (x_train, y_train, w):\n",
        "  for i in range(len(x_train)):\n",
        "    error = y_train[i] - predict([x_train[i][0],x_train[i][1]]) \n",
        "    print (w, error, y_train[i])\n",
        "    if error != 0:\n",
        "      w[0] = w[0] + error * x_train[i][0] * speed\n",
        "      print(w)\n",
        "      w[1] = w[1] + error * x_train[i][1] * speed\n",
        "      print(w)"
      ],
      "metadata": {
        "id": "6CvasvnjTmc4"
      },
      "execution_count": null,
      "outputs": []
    },
    {
      "cell_type": "code",
      "source": [
        "def epoch (count, func_train, x_train, y_train, w):\n",
        "  print(\"Параметры весов:\\n\")\n",
        "  for i in range(count):\n",
        "    func_train(x_train, y_train, w)"
      ],
      "metadata": {
        "id": "GYEcz32Ws0Dm"
      },
      "execution_count": null,
      "outputs": []
    },
    {
      "cell_type": "code",
      "source": [
        "epoch(5, train, x_train, y_train, w)\n",
        "print(\"\\nКонечные веса: \", w)"
      ],
      "metadata": {
        "colab": {
          "base_uri": "https://localhost:8080/"
        },
        "id": "wAYhHnMLV7AP",
        "outputId": "cf08ed42-d1ac-4779-a872-4b6c1f0b37e2"
      },
      "execution_count": null,
      "outputs": [
        {
          "output_type": "stream",
          "name": "stdout",
          "text": [
            "Параметры весов:\n",
            "\n",
            "[0.58, 0.89] 0 1\n",
            "[0.58, 0.89] 0 0\n",
            "[0.58, 0.89] 0 0\n",
            "[0.58, 0.89] 0 0\n",
            "[0.58, 0.89] 0 1\n",
            "[0.58, 0.89] 0 0\n",
            "[0.58, 0.89] 0 0\n",
            "[0.58, 0.89] 0 0\n",
            "[0.58, 0.89] 0 1\n",
            "[0.58, 0.89] 0 0\n",
            "[0.58, 0.89] 0 0\n",
            "[0.58, 0.89] 0 0\n",
            "[0.58, 0.89] 0 1\n",
            "[0.58, 0.89] 0 0\n",
            "[0.58, 0.89] 0 0\n",
            "[0.58, 0.89] 0 0\n",
            "[0.58, 0.89] 0 1\n",
            "[0.58, 0.89] 0 0\n",
            "[0.58, 0.89] 0 0\n",
            "[0.58, 0.89] 0 0\n",
            "\n",
            "Конечные веса:  [0.58, 0.89]\n"
          ]
        }
      ]
    },
    {
      "cell_type": "code",
      "source": [
        "print(predict([1,1]))\n",
        "print(predict([1,0]))\n",
        "print(predict([0,1]))\n",
        "print(predict([0,0]))"
      ],
      "metadata": {
        "colab": {
          "base_uri": "https://localhost:8080/"
        },
        "id": "Sx_-OkZvWgNq",
        "outputId": "c6c21277-42c9-41b1-895c-f47dbe5c914b"
      },
      "execution_count": null,
      "outputs": [
        {
          "output_type": "stream",
          "name": "stdout",
          "text": [
            "1\n",
            "0\n",
            "0\n",
            "0\n"
          ]
        }
      ]
    },
    {
      "cell_type": "code",
      "source": [
        "for i in range(len(x_train)):\n",
        "  print(predict([x_train[i][0],x_train[i][1]]))"
      ],
      "metadata": {
        "colab": {
          "base_uri": "https://localhost:8080/"
        },
        "id": "qVOTmZidt8i2",
        "outputId": "443d5aaf-7c94-4114-d7ac-d377e851406c"
      },
      "execution_count": null,
      "outputs": [
        {
          "output_type": "stream",
          "name": "stdout",
          "text": [
            "1\n",
            "0\n",
            "0\n",
            "0\n"
          ]
        }
      ]
    },
    {
      "cell_type": "markdown",
      "source": [
        "Логическое ИЛИ"
      ],
      "metadata": {
        "id": "0N_BsyKPwBI9"
      }
    },
    {
      "cell_type": "code",
      "source": [
        "w3= [randint(0,100)/100, randint(0,100)/100]\n",
        "\n",
        "x_train = [[1,1], [1,0], [0,1], [0,0]] \n",
        "y_train = [1,1,1,0]"
      ],
      "metadata": {
        "id": "Vsd8anSev-8e"
      },
      "execution_count": null,
      "outputs": []
    },
    {
      "cell_type": "code",
      "source": [
        "def predict3(x_train):\n",
        "  summator = x_train[0] * w3[0] + x_train[1] * w3[1]\n",
        "  act = 1 if summator >= 1 else 0\n",
        "  return act"
      ],
      "metadata": {
        "id": "EDjr2okvgOmi"
      },
      "execution_count": null,
      "outputs": []
    },
    {
      "cell_type": "code",
      "source": [
        "epoch(5, train, x_train, y_train, w3)\n",
        "print(\"\\nКонечные веса: \",w)"
      ],
      "metadata": {
        "colab": {
          "base_uri": "https://localhost:8080/"
        },
        "id": "1mBvgByZwMDd",
        "outputId": "f37ccf02-ba95-4427-d1d8-758cf419c03f"
      },
      "execution_count": null,
      "outputs": [
        {
          "output_type": "stream",
          "name": "stdout",
          "text": [
            "Параметры весов:\n",
            "\n",
            "[0.88, 0.78] 0 1\n",
            "[0.88, 0.78] 1 1\n",
            "[1.18, 0.78]\n",
            "[1.18, 0.78]\n",
            "[1.18, 0.78] 1 1\n",
            "[1.18, 0.78]\n",
            "[1.18, 1.08]\n",
            "[1.18, 1.08] 0 0\n",
            "[1.18, 1.08] 0 1\n",
            "[1.18, 1.08] 1 1\n",
            "[1.48, 1.08]\n",
            "[1.48, 1.08]\n",
            "[1.48, 1.08] 1 1\n",
            "[1.48, 1.08]\n",
            "[1.48, 1.3800000000000001]\n",
            "[1.48, 1.3800000000000001] 0 0\n",
            "[1.48, 1.3800000000000001] 0 1\n",
            "[1.48, 1.3800000000000001] 1 1\n",
            "[1.78, 1.3800000000000001]\n",
            "[1.78, 1.3800000000000001]\n",
            "[1.78, 1.3800000000000001] 1 1\n",
            "[1.78, 1.3800000000000001]\n",
            "[1.78, 1.6800000000000002]\n",
            "[1.78, 1.6800000000000002] 0 0\n",
            "[1.78, 1.6800000000000002] 0 1\n",
            "[1.78, 1.6800000000000002] 1 1\n",
            "[2.08, 1.6800000000000002]\n",
            "[2.08, 1.6800000000000002]\n",
            "[2.08, 1.6800000000000002] 1 1\n",
            "[2.08, 1.6800000000000002]\n",
            "[2.08, 1.9800000000000002]\n",
            "[2.08, 1.9800000000000002] 0 0\n",
            "[2.08, 1.9800000000000002] 0 1\n",
            "[2.08, 1.9800000000000002] 1 1\n",
            "[2.38, 1.9800000000000002]\n",
            "[2.38, 1.9800000000000002]\n",
            "[2.38, 1.9800000000000002] 1 1\n",
            "[2.38, 1.9800000000000002]\n",
            "[2.38, 2.2800000000000002]\n",
            "[2.38, 2.2800000000000002] 0 0\n",
            "\n",
            "Конечные веса:  [0.58, 0.89]\n"
          ]
        }
      ]
    },
    {
      "cell_type": "code",
      "source": [
        "for i in range(len(x_train)):\n",
        "  print(predict3([x_train[i][0],x_train[i][1]]))"
      ],
      "metadata": {
        "colab": {
          "base_uri": "https://localhost:8080/"
        },
        "id": "sMvaRyIcwOW-",
        "outputId": "a99df440-737e-49d7-e8cc-cb2162ca1ba1"
      },
      "execution_count": null,
      "outputs": [
        {
          "output_type": "stream",
          "name": "stdout",
          "text": [
            "1\n",
            "1\n",
            "1\n",
            "0\n"
          ]
        }
      ]
    },
    {
      "cell_type": "markdown",
      "source": [
        "Конъюнкция отрицания X1 и X2"
      ],
      "metadata": {
        "id": "gpe2oblGwhgA"
      }
    },
    {
      "cell_type": "code",
      "source": [
        "w1= [randint(0,100)/100, randint(0,100)/100]\n",
        "\n",
        "x_train1 = [[1,1], [1,0], [0,1], [0,0]] \n",
        "y_train1 = [0,0,1,0]"
      ],
      "metadata": {
        "id": "qAatWH73wfcW"
      },
      "execution_count": null,
      "outputs": []
    },
    {
      "cell_type": "code",
      "source": [
        "def predict1(x_train):\n",
        "  summator = x_train[0] * w1[0] + x_train[1] * w1[1]\n",
        "  act = 1 if summator >= 1 else 0\n",
        "  return act"
      ],
      "metadata": {
        "id": "J6UpKPreco2N"
      },
      "execution_count": null,
      "outputs": []
    },
    {
      "cell_type": "code",
      "source": [
        "def train1 (x_train, y_train, w):\n",
        "  for i in range(len(x_train)):\n",
        "    error = y_train[i] - predict1(x_train[i]) \n",
        "    print (w, error, y_train[i])\n",
        "    if error != 0:\n",
        "      w[0] = w[0] + error * x_train[i][0] * speed\n",
        "      print(w)\n",
        "      w[1] = w[1] + error * x_train[i][1] * speed\n",
        "      print(w)"
      ],
      "metadata": {
        "id": "wlOmv_aFcqzl"
      },
      "execution_count": null,
      "outputs": []
    },
    {
      "cell_type": "code",
      "source": [
        "def epoch1 (count, func_train, x_train, y_train, w):\n",
        "  print(\"Параметры весов:\\n\")\n",
        "  for i in range(count):\n",
        "    func_train(x_train, y_train, w)"
      ],
      "metadata": {
        "id": "OdABNGKvcv4c"
      },
      "execution_count": null,
      "outputs": []
    },
    {
      "cell_type": "code",
      "source": [
        "epoch(8, train1, x_train1, y_train1, w1)\n",
        "print(\"\\nКонечные веса: \",w1)"
      ],
      "metadata": {
        "colab": {
          "base_uri": "https://localhost:8080/"
        },
        "id": "N5Vz8Y-Pw2Mu",
        "outputId": "551a8127-ca15-4e7f-869b-d65b567d650c"
      },
      "execution_count": null,
      "outputs": [
        {
          "output_type": "stream",
          "name": "stdout",
          "text": [
            "Параметры весов:\n",
            "\n",
            "[0.92, 0.4] -1 0\n",
            "[0.6200000000000001, 0.4]\n",
            "[0.6200000000000001, 0.10000000000000003]\n",
            "[0.6200000000000001, 0.10000000000000003] 0 0\n",
            "[0.6200000000000001, 0.10000000000000003] 1 1\n",
            "[0.6200000000000001, 0.10000000000000003]\n",
            "[0.6200000000000001, 0.4]\n",
            "[0.6200000000000001, 0.4] 0 0\n",
            "[0.6200000000000001, 0.4] -1 0\n",
            "[0.3200000000000001, 0.4]\n",
            "[0.3200000000000001, 0.10000000000000003]\n",
            "[0.3200000000000001, 0.10000000000000003] 0 0\n",
            "[0.3200000000000001, 0.10000000000000003] 1 1\n",
            "[0.3200000000000001, 0.10000000000000003]\n",
            "[0.3200000000000001, 0.4]\n",
            "[0.3200000000000001, 0.4] 0 0\n",
            "[0.3200000000000001, 0.4] 0 0\n",
            "[0.3200000000000001, 0.4] 0 0\n",
            "[0.3200000000000001, 0.4] 1 1\n",
            "[0.3200000000000001, 0.4]\n",
            "[0.3200000000000001, 0.7]\n",
            "[0.3200000000000001, 0.7] 0 0\n",
            "[0.3200000000000001, 0.7] -1 0\n",
            "[0.02000000000000013, 0.7]\n",
            "[0.02000000000000013, 0.39999999999999997]\n",
            "[0.02000000000000013, 0.39999999999999997] 0 0\n",
            "[0.02000000000000013, 0.39999999999999997] 1 1\n",
            "[0.02000000000000013, 0.39999999999999997]\n",
            "[0.02000000000000013, 0.7]\n",
            "[0.02000000000000013, 0.7] 0 0\n",
            "[0.02000000000000013, 0.7] 0 0\n",
            "[0.02000000000000013, 0.7] 0 0\n",
            "[0.02000000000000013, 0.7] 1 1\n",
            "[0.02000000000000013, 0.7]\n",
            "[0.02000000000000013, 1.0]\n",
            "[0.02000000000000013, 1.0] 0 0\n",
            "[0.02000000000000013, 1.0] -1 0\n",
            "[-0.27999999999999986, 1.0]\n",
            "[-0.27999999999999986, 0.7]\n",
            "[-0.27999999999999986, 0.7] 0 0\n",
            "[-0.27999999999999986, 0.7] 1 1\n",
            "[-0.27999999999999986, 0.7]\n",
            "[-0.27999999999999986, 1.0]\n",
            "[-0.27999999999999986, 1.0] 0 0\n",
            "[-0.27999999999999986, 1.0] 0 0\n",
            "[-0.27999999999999986, 1.0] 0 0\n",
            "[-0.27999999999999986, 1.0] 0 1\n",
            "[-0.27999999999999986, 1.0] 0 0\n",
            "[-0.27999999999999986, 1.0] 0 0\n",
            "[-0.27999999999999986, 1.0] 0 0\n",
            "[-0.27999999999999986, 1.0] 0 1\n",
            "[-0.27999999999999986, 1.0] 0 0\n",
            "\n",
            "Конечные веса:  [-0.27999999999999986, 1.0]\n"
          ]
        }
      ]
    },
    {
      "cell_type": "code",
      "source": [
        "for i in range(len(x_train1)):\n",
        "  print(predict1([x_train1[i][0],x_train1[i][1]]))"
      ],
      "metadata": {
        "colab": {
          "base_uri": "https://localhost:8080/"
        },
        "id": "fbphQzsHw3_u",
        "outputId": "7cb5dc7c-23cd-40db-acfa-a548988860f4"
      },
      "execution_count": null,
      "outputs": [
        {
          "output_type": "stream",
          "name": "stdout",
          "text": [
            "0\n",
            "0\n",
            "1\n",
            "0\n"
          ]
        }
      ]
    },
    {
      "cell_type": "markdown",
      "source": [
        "Конъюнкция X1 и отрицания X2"
      ],
      "metadata": {
        "id": "F7wJDXtvxOdu"
      }
    },
    {
      "cell_type": "code",
      "source": [
        "w2= [randint(0,100)/100, randint(0,100)/100]\n",
        "\n",
        "x_train2 = [[1,1], [1,0], [0,1], [0,0]] \n",
        "y_train2 = [0,1,0,0]"
      ],
      "metadata": {
        "id": "UElgiPGuxMwf"
      },
      "execution_count": null,
      "outputs": []
    },
    {
      "cell_type": "code",
      "source": [
        "def predict2(x_train):\n",
        "  summator = x_train[0] * w2[0] + x_train[1] * w2[1]\n",
        "  act = 1 if summator >= 1 else 0\n",
        "  return act"
      ],
      "metadata": {
        "id": "Sfc7Y7bDdW1P"
      },
      "execution_count": null,
      "outputs": []
    },
    {
      "cell_type": "code",
      "source": [
        "def train2 (x_train, y_train, w):\n",
        "  for i in range(len(x_train)):\n",
        "    error = y_train[i] - predict2(x_train[i]) \n",
        "    print (w, error, y_train[i])\n",
        "    if error != 0:\n",
        "      w[0] = w[0] + error * x_train[i][0] * speed\n",
        "      print(w)\n",
        "      w[1] = w[1] + error * x_train[i][1] * speed\n",
        "      print(w)"
      ],
      "metadata": {
        "id": "2RmosKaydW1P"
      },
      "execution_count": null,
      "outputs": []
    },
    {
      "cell_type": "code",
      "source": [
        "def epoch2 (count, func_train, x_train, y_train, w):\n",
        "  print(\"Параметры весов:\\n\")\n",
        "  for i in range(count):\n",
        "    func_train(x_train, y_train, w)"
      ],
      "metadata": {
        "id": "y9CPseS5dW1Q"
      },
      "execution_count": null,
      "outputs": []
    },
    {
      "cell_type": "code",
      "source": [
        "epoch2(8, train2, x_train2, y_train2, w2)\n",
        "print(\"\\nКонечные веса: \",w2)"
      ],
      "metadata": {
        "colab": {
          "base_uri": "https://localhost:8080/"
        },
        "id": "vxUv7KBexif1",
        "outputId": "e02eed46-78f9-437a-e8ed-03624204cc64"
      },
      "execution_count": null,
      "outputs": [
        {
          "output_type": "stream",
          "name": "stdout",
          "text": [
            "Параметры весов:\n",
            "\n",
            "[0.87, 0.23] -1 0\n",
            "[0.5700000000000001, 0.23]\n",
            "[0.5700000000000001, -0.06999999999999998]\n",
            "[0.5700000000000001, -0.06999999999999998] 1 1\n",
            "[0.8700000000000001, -0.06999999999999998]\n",
            "[0.8700000000000001, -0.06999999999999998]\n",
            "[0.8700000000000001, -0.06999999999999998] 0 0\n",
            "[0.8700000000000001, -0.06999999999999998] 0 0\n",
            "[0.8700000000000001, -0.06999999999999998] 0 0\n",
            "[0.8700000000000001, -0.06999999999999998] 1 1\n",
            "[1.1700000000000002, -0.06999999999999998]\n",
            "[1.1700000000000002, -0.06999999999999998]\n",
            "[1.1700000000000002, -0.06999999999999998] 0 0\n",
            "[1.1700000000000002, -0.06999999999999998] 0 0\n",
            "[1.1700000000000002, -0.06999999999999998] -1 0\n",
            "[0.8700000000000001, -0.06999999999999998]\n",
            "[0.8700000000000001, -0.37]\n",
            "[0.8700000000000001, -0.37] 1 1\n",
            "[1.1700000000000002, -0.37]\n",
            "[1.1700000000000002, -0.37]\n",
            "[1.1700000000000002, -0.37] 0 0\n",
            "[1.1700000000000002, -0.37] 0 0\n",
            "[1.1700000000000002, -0.37] 0 0\n",
            "[1.1700000000000002, -0.37] 0 1\n",
            "[1.1700000000000002, -0.37] 0 0\n",
            "[1.1700000000000002, -0.37] 0 0\n",
            "[1.1700000000000002, -0.37] 0 0\n",
            "[1.1700000000000002, -0.37] 0 1\n",
            "[1.1700000000000002, -0.37] 0 0\n",
            "[1.1700000000000002, -0.37] 0 0\n",
            "[1.1700000000000002, -0.37] 0 0\n",
            "[1.1700000000000002, -0.37] 0 1\n",
            "[1.1700000000000002, -0.37] 0 0\n",
            "[1.1700000000000002, -0.37] 0 0\n",
            "[1.1700000000000002, -0.37] 0 0\n",
            "[1.1700000000000002, -0.37] 0 1\n",
            "[1.1700000000000002, -0.37] 0 0\n",
            "[1.1700000000000002, -0.37] 0 0\n",
            "[1.1700000000000002, -0.37] 0 0\n",
            "[1.1700000000000002, -0.37] 0 1\n",
            "[1.1700000000000002, -0.37] 0 0\n",
            "[1.1700000000000002, -0.37] 0 0\n",
            "\n",
            "Конечные веса:  [1.1700000000000002, -0.37]\n"
          ]
        }
      ]
    },
    {
      "cell_type": "code",
      "source": [
        "for i in range(len(x_train2)):\n",
        "  print(predict2([x_train2[i][0],x_train2[i][1]]))"
      ],
      "metadata": {
        "colab": {
          "base_uri": "https://localhost:8080/"
        },
        "id": "uSMaTE9OxllM",
        "outputId": "7f69549c-e452-4510-f677-0df53e60415f"
      },
      "execution_count": null,
      "outputs": [
        {
          "output_type": "stream",
          "name": "stdout",
          "text": [
            "0\n",
            "1\n",
            "0\n",
            "0\n"
          ]
        }
      ]
    },
    {
      "cell_type": "markdown",
      "source": [
        "Задание 4-5\n",
        "На вход подаются 1 и -1 "
      ],
      "metadata": {
        "id": "fegfgOfFxsfF"
      }
    },
    {
      "cell_type": "code",
      "source": [
        "w= [randint(0,100)/100, randint(0,100)/100, randint(0,100)/100]\n",
        "speed = 0.3\n",
        "x_train = [[1,1], [1,-1], [-1,1], [-1,-1]] \n",
        "y_train = [1,-1,-1,-1]"
      ],
      "metadata": {
        "id": "-swHd2kIxsIG"
      },
      "execution_count": null,
      "outputs": []
    },
    {
      "cell_type": "code",
      "source": [
        "w"
      ],
      "metadata": {
        "colab": {
          "base_uri": "https://localhost:8080/"
        },
        "id": "Xb6kO4whaCFK",
        "outputId": "3ec3f22a-a3e8-4ac8-a9a5-d0dfe3be4b1d"
      },
      "execution_count": null,
      "outputs": [
        {
          "output_type": "execute_result",
          "data": {
            "text/plain": [
              "[0.86, 0.0, 0.13]"
            ]
          },
          "metadata": {},
          "execution_count": 221
        }
      ]
    },
    {
      "cell_type": "code",
      "source": [
        "def predict(x_train):\n",
        "  summator = x_train[0] * w[0] + x_train[1] * w[1] + w[2] * 1\n",
        "  act = 1 if summator >=0 else -1\n",
        "  return act"
      ],
      "metadata": {
        "id": "2Nghc4SuVGF9"
      },
      "execution_count": null,
      "outputs": []
    },
    {
      "cell_type": "code",
      "source": [
        "def train (x_train, y_train, w):\n",
        "  for i in range(len(x_train)):\n",
        "    error = y_train[i] - predict([x_train[i][0],x_train[i][1]]) \n",
        "    print (w, error, y_train[i])\n",
        "    if error != 0:\n",
        "      w[0] = w[0] + error * x_train[i][0] * speed \n",
        "      print(w)\n",
        "      w[1] = w[1] + error * x_train[i][1] * speed\n",
        "      print(w)\n",
        "      w[2] = w[2] + error * 1 * speed"
      ],
      "metadata": {
        "id": "x5CNrtUVXx7v"
      },
      "execution_count": null,
      "outputs": []
    },
    {
      "cell_type": "code",
      "source": [
        "def epoch (count, func_train, x_train, y_train, w):\n",
        "  print(\"Параметры весов:\\n\")\n",
        "  for i in range(count):\n",
        "    func_train(x_train, y_train, w)"
      ],
      "metadata": {
        "id": "6kNkCxLFX4yR"
      },
      "execution_count": null,
      "outputs": []
    },
    {
      "cell_type": "code",
      "source": [
        "epoch(10, train, x_train, y_train, w)\n",
        "print(\"\\nКонечные веса: \",w)"
      ],
      "metadata": {
        "id": "so7dGPwmUxqn",
        "colab": {
          "base_uri": "https://localhost:8080/"
        },
        "outputId": "d8448291-04de-497a-bb75-e3f5b8a81221"
      },
      "execution_count": null,
      "outputs": [
        {
          "output_type": "stream",
          "name": "stdout",
          "text": [
            "Параметры весов:\n",
            "\n",
            "[0.86, 0.0, 0.13] 0 1\n",
            "[0.86, 0.0, 0.13] -2 -1\n",
            "[0.26, 0.0, 0.13]\n",
            "[0.26, 0.6, 0.13]\n",
            "[0.26, 0.6, -0.47] 0 -1\n",
            "[0.26, 0.6, -0.47] 0 -1\n",
            "[0.26, 0.6, -0.47] 0 1\n",
            "[0.26, 0.6, -0.47] 0 -1\n",
            "[0.26, 0.6, -0.47] 0 -1\n",
            "[0.26, 0.6, -0.47] 0 -1\n",
            "[0.26, 0.6, -0.47] 0 1\n",
            "[0.26, 0.6, -0.47] 0 -1\n",
            "[0.26, 0.6, -0.47] 0 -1\n",
            "[0.26, 0.6, -0.47] 0 -1\n",
            "[0.26, 0.6, -0.47] 0 1\n",
            "[0.26, 0.6, -0.47] 0 -1\n",
            "[0.26, 0.6, -0.47] 0 -1\n",
            "[0.26, 0.6, -0.47] 0 -1\n",
            "[0.26, 0.6, -0.47] 0 1\n",
            "[0.26, 0.6, -0.47] 0 -1\n",
            "[0.26, 0.6, -0.47] 0 -1\n",
            "[0.26, 0.6, -0.47] 0 -1\n",
            "[0.26, 0.6, -0.47] 0 1\n",
            "[0.26, 0.6, -0.47] 0 -1\n",
            "[0.26, 0.6, -0.47] 0 -1\n",
            "[0.26, 0.6, -0.47] 0 -1\n",
            "[0.26, 0.6, -0.47] 0 1\n",
            "[0.26, 0.6, -0.47] 0 -1\n",
            "[0.26, 0.6, -0.47] 0 -1\n",
            "[0.26, 0.6, -0.47] 0 -1\n",
            "[0.26, 0.6, -0.47] 0 1\n",
            "[0.26, 0.6, -0.47] 0 -1\n",
            "[0.26, 0.6, -0.47] 0 -1\n",
            "[0.26, 0.6, -0.47] 0 -1\n",
            "[0.26, 0.6, -0.47] 0 1\n",
            "[0.26, 0.6, -0.47] 0 -1\n",
            "[0.26, 0.6, -0.47] 0 -1\n",
            "[0.26, 0.6, -0.47] 0 -1\n",
            "[0.26, 0.6, -0.47] 0 1\n",
            "[0.26, 0.6, -0.47] 0 -1\n",
            "[0.26, 0.6, -0.47] 0 -1\n",
            "[0.26, 0.6, -0.47] 0 -1\n",
            "\n",
            "Конечные веса:  [0.26, 0.6, -0.47]\n"
          ]
        }
      ]
    },
    {
      "cell_type": "code",
      "source": [
        "for i in range(len(x_train)):\n",
        "  print(predict([x_train[i][0],x_train[i][1]]))"
      ],
      "metadata": {
        "colab": {
          "base_uri": "https://localhost:8080/"
        },
        "id": "05HYrDOmZYKW",
        "outputId": "dad6ebf9-2f7c-4b0e-8cc9-5f2d41be884c"
      },
      "execution_count": null,
      "outputs": [
        {
          "output_type": "stream",
          "name": "stdout",
          "text": [
            "1\n",
            "-1\n",
            "-1\n",
            "-1\n"
          ]
        }
      ]
    },
    {
      "cell_type": "markdown",
      "source": [
        "XOR 3 нейрона"
      ],
      "metadata": {
        "id": "upMybEiPyc6a"
      }
    },
    {
      "cell_type": "code",
      "source": [
        "def xor(x_train):\n",
        "  return predict3([predict1([x_train[0], x_train[1]]), predict2([x_train[0], x_train[1]])]) # это конъюнкция двух других функций"
      ],
      "metadata": {
        "id": "LG9dSqa4fHtk"
      },
      "execution_count": null,
      "outputs": []
    },
    {
      "cell_type": "code",
      "source": [
        "for i in range(len(x_train)):\n",
        "  print(xor(x_train[i]))"
      ],
      "metadata": {
        "id": "qsO8Fh-5s_lx",
        "colab": {
          "base_uri": "https://localhost:8080/"
        },
        "outputId": "a721014c-96b8-4459-fd04-aa2db97256e4"
      },
      "execution_count": null,
      "outputs": [
        {
          "output_type": "stream",
          "name": "stdout",
          "text": [
            "0\n",
            "1\n",
            "1\n",
            "0\n"
          ]
        }
      ]
    }
  ]
}